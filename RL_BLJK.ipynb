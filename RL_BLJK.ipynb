{
 "cells": [
  {
   "cell_type": "code",
   "execution_count": 144,
   "metadata": {},
   "outputs": [
    {
     "data": {
      "text/plain": [
       "<module 'Blackjack_simulator' from 'c:\\\\Users\\\\chuck\\\\Desktop\\\\ds543\\\\git\\\\BlackJack-RL-DQN\\\\Blackjack_simulator.py'>"
      ]
     },
     "execution_count": 144,
     "metadata": {},
     "output_type": "execute_result"
    }
   ],
   "source": [
    "import importlib\n",
    "import Blackjack_simulator as bjck\n",
    "importlib.reload(bjck)\n"
   ]
  },
  {
   "cell_type": "code",
   "execution_count": 145,
   "metadata": {},
   "outputs": [],
   "source": [
    "import Blackjack_simulator as bjck\n",
    "from Blackjack_simulator import deal\n",
    "from Blackjack_simulator import draw\n",
    "import gymnasium as gym\n",
    "from typing import Optional, Tuple, Union\n",
    "from gymnasium import logger, spaces\n",
    "\n",
    "import math\n",
    "import random\n",
    "import matplotlib\n",
    "import matplotlib.pyplot as plt\n",
    "from collections import namedtuple, deque\n",
    "from itertools import count\n",
    "import numpy as np\n",
    "\n",
    "import torch\n",
    "import torch.nn as nn\n",
    "import torch.optim as optim\n",
    "import torch.nn.functional as F\n",
    "\n",
    "device = torch.device(\"cuda\" if torch.cuda.is_available() else \"cpu\")"
   ]
  },
  {
   "cell_type": "code",
   "execution_count": 146,
   "metadata": {},
   "outputs": [],
   "source": [
    "class BlackJackEnv(gym.Env):\n",
    "    def __init__(self):\n",
    "        super(BlackJackEnv, self).__init__()\n",
    "        self.action_space = gym.spaces.Discrete(2)  # Hit or Stand\n",
    "        self.observation_space = gym.spaces.Box(low=np.array([0, 0, 1]), high=np.array([21, 4, 11]), dtype=np.float32)\n",
    "        self.reset()  # Initialize variables properly\n",
    "\n",
    "    def reset(self):\n",
    "        self.score, self.hand = deal()\n",
    "        self.aces = sum(1 for card in self.hand if card == 11)\n",
    "        self.open_card = draw()\n",
    "        obs = np.array([self.score, self.aces, self.open_card], dtype=np.float32)\n",
    "        return obs, {}  # Added info dictionary\n",
    "\n",
    "\n",
    "    def rewardfnc(self, score):\n",
    "        if score > 21:\n",
    "            return -1\n",
    "        else:\n",
    "            dealers_total = bjck.dealer_from_hand(self.open_card)\n",
    "            if score > dealers_total:\n",
    "                return 1\n",
    "            elif score < dealers_total:\n",
    "                return -1\n",
    "            else: return 0\n",
    "\n",
    "    def step(self, action):\n",
    "        if action == 0:  # Stand\n",
    "            return np.array([self.score, self.aces, self.open_card], dtype=np.float32), self.rewardfnc(self.score), True, {}\n",
    "        \n",
    "        card = draw()\n",
    "        self.score += card\n",
    "        if card == 11:\n",
    "            self.aces += 1\n",
    "\n",
    "        while self.score > 21 and self.aces > 0:\n",
    "            self.score -= 10\n",
    "            self.aces -= 1\n",
    "\n",
    "        done = self.score > 21\n",
    "        reward = -1 if done else 0\n",
    "        return np.array([self.score, self.aces, self.open_card], dtype=np.float32), reward, done, {}\n",
    "\n",
    "env = BlackJackEnv()"
   ]
  },
  {
   "cell_type": "code",
   "execution_count": 147,
   "metadata": {},
   "outputs": [],
   "source": [
    "Transition = namedtuple('Transition', ('state', 'action', 'next_state', 'reward'))\n",
    "\n",
    "\n",
    "class ReplayMemory:\n",
    "    def __init__(self, capacity):\n",
    "        self.memory = deque([], maxlen=capacity)\n",
    "\n",
    "    def push(self, *args):\n",
    "        self.memory.append(Transition(*args))\n",
    "\n",
    "    def sample(self, batch_size):\n",
    "        return random.sample(self.memory, batch_size)\n",
    "\n",
    "    def __len__(self):\n",
    "        return len(self.memory)\n",
    "    \n",
    "    "
   ]
  },
  {
   "cell_type": "code",
   "execution_count": 148,
   "metadata": {},
   "outputs": [
    {
     "name": "stdout",
     "output_type": "stream",
     "text": [
      "Average Reward over 1000 episodes: -0.3330\n"
     ]
    }
   ],
   "source": [
    "\n",
    "env = BlackJackEnv()\n",
    "num_episodes = 1000\n",
    "total_reward = 0\n",
    "\n",
    "for _ in range(num_episodes):\n",
    "    state = env.reset()\n",
    "    done = False\n",
    "    episode_reward = 0\n",
    "    \n",
    "    while not done:\n",
    "        action = env.action_space.sample()  # Choose random action (Hit or Stand)\n",
    "        next_state, reward, done, _ = env.step(action)\n",
    "        episode_reward += reward\n",
    "    \n",
    "    total_reward += episode_reward\n",
    "\n",
    "average_reward = total_reward / num_episodes\n",
    "print(f\"Average Reward over {num_episodes} episodes: {average_reward:.4f}\")"
   ]
  },
  {
   "cell_type": "code",
   "execution_count": 149,
   "metadata": {},
   "outputs": [],
   "source": [
    "class DQN(nn.Module):\n",
    "    def __init__(self, n_observations, n_actions):\n",
    "        super(DQN, self).__init__()\n",
    "        self.fc1 = nn.Linear(n_observations, 128)\n",
    "        self.fc2 = nn.Linear(128, 128)\n",
    "        self.fc3 = nn.Linear(128, n_actions)\n",
    "\n",
    "    def forward(self, x):\n",
    "        x = F.relu(self.fc1 (x))\n",
    "        x = F.relu(self.fc2(x))\n",
    "        return self.fc3(x)"
   ]
  },
  {
   "cell_type": "code",
   "execution_count": 150,
   "metadata": {},
   "outputs": [],
   "source": [
    "GAMMA = 0.99\n",
    "EPS_START = 1.0\n",
    "EPS_END = 0.05\n",
    "TAU = 0.005\n",
    "n = 1000\n",
    "LR = 1e-3\n",
    "EPS_DECAY = 5000\n",
    "test_array = np.array([[int(128), int(256), int(512)],[int(1e-3), int(1e-4), int(1e-5)],[0.9, 0.95, 0.99],[5000, 10000, 20000]])\n",
    "batch_idx = 0\n",
    "LR_idx = 1\n",
    "discounts_idx = 2\n",
    "Edecay_idx = 3\n",
    "\n",
    "# DQN Setup\n",
    "n_actions = env.action_space.n\n",
    "n_observations = 3\n",
    "policy_net = DQN(n_observations, n_actions)\n",
    "target_net = DQN(n_observations, n_actions)\n",
    "target_net.load_state_dict(policy_net.state_dict())\n",
    "optimizer = optim.Adam(policy_net.parameters(), lr=LR)\n",
    "memory = ReplayMemory(10000)\n",
    "steps_done = 0\n",
    "\n",
    "# Epsilon-Greedy Action Selection\n",
    "def select_action(state):\n",
    "    global steps_done\n",
    "    eps_threshold = EPS_END + (EPS_START - EPS_END) * np.exp(-steps_done / EPS_DECAY)\n",
    "    steps_done += 1\n",
    "    if random.random() > eps_threshold:\n",
    "        with torch.no_grad():\n",
    "            return policy_net(state).argmax(dim=1).view(1, 1)\n",
    "    else:\n",
    "        return torch.tensor([[random.randrange(n_actions)]], dtype=torch.long)\n",
    "\n",
    "\n",
    "\n"
   ]
  },
  {
   "cell_type": "code",
   "execution_count": 151,
   "metadata": {},
   "outputs": [],
   "source": [
    "def reset_model():\n",
    "    # Reinitialize the policy and target networks\n",
    "    global policy_net, target_net, optimizer, memory\n",
    "\n",
    "    policy_net = DQN(n_observations, n_actions).to(device)  # Reinitialize policy network\n",
    "    target_net = DQN(n_observations, n_actions).to(device)  # Reinitialize target network\n",
    "    \n",
    "    # Ensure target_net starts with the same weights as policy_net\n",
    "    target_net.load_state_dict(policy_net.state_dict())\n",
    "\n",
    "    # Reset optimizer\n",
    "    optimizer = optim.Adam(policy_net.parameters(), lr=LR)\n",
    "    \n",
    "    # Clear the replay memory\n",
    "    memory = ReplayMemory(10000)\n",
    "    \n",
    "    # Reset the step count\n",
    "    global steps_done\n",
    "    steps_done = 0\n",
    "\n",
    "    print(\"Model and replay memory reset.\")\n"
   ]
  },
  {
   "cell_type": "code",
   "execution_count": 152,
   "metadata": {},
   "outputs": [],
   "source": [
    "def optimize_model(BATCH_SIZE):\n",
    "    if len(memory) < BATCH_SIZE:\n",
    "        return\n",
    "\n",
    "    transitions = memory.sample(BATCH_SIZE)\n",
    "    batch = Transition(*zip(*transitions))\n",
    "\n",
    "    state_batch = torch.cat(batch.state)  # Shape: (batch_size, n_observations)\n",
    "    \n",
    "    # Convert action batch into a tensor\n",
    "    action_batch = torch.tensor(batch.action, dtype=torch.long, device=device).unsqueeze(1)  # Ensure correct shape\n",
    "\n",
    "    reward_batch = torch.cat(batch.reward)\n",
    "\n",
    "    # Create mask for non-final states\n",
    "    non_final_mask = torch.tensor([s is not None for s in batch.next_state], dtype=torch.bool)\n",
    "    \n",
    "    # Get next state values\n",
    "    if any(s is not None for s in batch.next_state):\n",
    "        non_final_next_states = torch.cat([s for s in batch.next_state if s is not None])\n",
    "    else:\n",
    "        non_final_next_states = torch.zeros((0, *state_batch.shape[1:]), device=device)\n",
    "\n",
    "    # Get Q-values from policy network for the current state\n",
    "    state_action_values = policy_net(state_batch).gather(1, action_batch)  # Gathering the action's Q-value\n",
    "\n",
    "    # Get next state actions using the policy network for action selection\n",
    "    next_state_actions = policy_net(non_final_next_states).max(1)[1].view(-1, 1)  # Shape: (batch_size, 1)\n",
    "\n",
    "    # Get the Q-values for the next state using the target network for evaluation\n",
    "    next_state_values = torch.zeros(BATCH_SIZE, device=device)\n",
    "    with torch.no_grad():\n",
    "        # Fix shape mismatch by squeezing the 2D tensor to 1D\n",
    "        next_state_values[non_final_mask] = target_net(non_final_next_states).gather(1, next_state_actions).squeeze(1)\n",
    "\n",
    "    # Calculate the expected Q-values\n",
    "    expected_state_action_values = (next_state_values * GAMMA) + reward_batch\n",
    "\n",
    "    # Compute loss and perform backpropagation\n",
    "    loss = F.smooth_l1_loss(state_action_values, expected_state_action_values.unsqueeze(1))  # Shape: (batch_size, 1)\n",
    "    optimizer.zero_grad()\n",
    "    loss.backward()\n",
    "    torch.nn.utils.clip_grad_norm_(policy_net.parameters(), 1)\n",
    "    optimizer.step()\n"
   ]
  },
  {
   "cell_type": "code",
   "execution_count": null,
   "metadata": {},
   "outputs": [],
   "source": []
  },
  {
   "cell_type": "code",
   "execution_count": null,
   "metadata": {},
   "outputs": [
    {
     "name": "stdout",
     "output_type": "stream",
     "text": [
      "Running DQN with batch size index: 1, learning rate index: 1, discount factor index: 1, epsilon decay index: 1\n",
      "in progress.....\n"
     ]
    },
    {
     "ename": "KeyboardInterrupt",
     "evalue": "",
     "output_type": "error",
     "traceback": [
      "\u001b[1;31m---------------------------------------------------------------------------\u001b[0m",
      "\u001b[1;31mKeyboardInterrupt\u001b[0m                         Traceback (most recent call last)",
      "Cell \u001b[1;32mIn[153], line 56\u001b[0m\n\u001b[0;32m     51\u001b[0m                     total_rewards[(i_idx, j_idx, k_idx, l_idx)] \u001b[38;5;241m=\u001b[39m avg_reward  \n\u001b[0;32m     53\u001b[0m     \u001b[38;5;28;01mreturn\u001b[39;00m total_rewards\n\u001b[1;32m---> 56\u001b[0m l \u001b[38;5;241m=\u001b[39m \u001b[43mmodel_search\u001b[49m\u001b[43m(\u001b[49m\u001b[43mtest_array\u001b[49m\u001b[43m,\u001b[49m\u001b[43m \u001b[49m\u001b[43mn\u001b[49m\u001b[43m)\u001b[49m\n",
      "Cell \u001b[1;32mIn[153], line 46\u001b[0m, in \u001b[0;36mmodel_search\u001b[1;34m(test_array, n)\u001b[0m\n\u001b[0;32m     41\u001b[0m EPS_DECAY \u001b[38;5;241m=\u001b[39m \u001b[38;5;28mfloat\u001b[39m(l)\n\u001b[0;32m     43\u001b[0m \u001b[38;5;28mprint\u001b[39m(\u001b[38;5;124mf\u001b[39m\u001b[38;5;124m'\u001b[39m\u001b[38;5;124mRunning DQN with batch size index: \u001b[39m\u001b[38;5;132;01m{\u001b[39;00mi_idx\u001b[38;5;132;01m}\u001b[39;00m\u001b[38;5;124m, learning rate index: \u001b[39m\u001b[38;5;132;01m{\u001b[39;00mj_idx\u001b[38;5;132;01m}\u001b[39;00m\u001b[38;5;124m, \u001b[39m\u001b[38;5;124m'\u001b[39m\n\u001b[0;32m     44\u001b[0m     \u001b[38;5;124mf\u001b[39m\u001b[38;5;124m'\u001b[39m\u001b[38;5;124mdiscount factor index: \u001b[39m\u001b[38;5;132;01m{\u001b[39;00mk_idx\u001b[38;5;132;01m}\u001b[39;00m\u001b[38;5;124m, epsilon decay index: \u001b[39m\u001b[38;5;132;01m{\u001b[39;00ml_idx\u001b[38;5;132;01m}\u001b[39;00m\u001b[38;5;124m'\u001b[39m)\n\u001b[1;32m---> 46\u001b[0m rewards \u001b[38;5;241m=\u001b[39m \u001b[43mrun_model\u001b[49m\u001b[43m(\u001b[49m\u001b[43mn\u001b[49m\u001b[43m,\u001b[49m\u001b[43m \u001b[49m\u001b[43mBATCH_SIZE\u001b[49m\u001b[43m,\u001b[49m\u001b[43m \u001b[49m\u001b[43mLR\u001b[49m\u001b[43m,\u001b[49m\u001b[43m \u001b[49m\u001b[43mGAMMA\u001b[49m\u001b[43m,\u001b[49m\u001b[43m \u001b[49m\u001b[43mEPS_DECAY\u001b[49m\u001b[43m)\u001b[49m\n\u001b[0;32m     48\u001b[0m avg_reward \u001b[38;5;241m=\u001b[39m np\u001b[38;5;241m.\u001b[39mmean(rewards[\u001b[38;5;241m-\u001b[39m\u001b[38;5;241m100\u001b[39m:])  \u001b[38;5;66;03m# Store last 100 episode average reward\u001b[39;00m\n\u001b[0;32m     50\u001b[0m \u001b[38;5;66;03m# Store indices instead of raw values\u001b[39;00m\n",
      "Cell \u001b[1;32mIn[153], line 19\u001b[0m, in \u001b[0;36mrun_model\u001b[1;34m(num_episodes, BATCH_SIZE, LR, GAMMA, EPS_DECAY)\u001b[0m\n\u001b[0;32m     16\u001b[0m memory\u001b[38;5;241m.\u001b[39mpush(state, torch\u001b[38;5;241m.\u001b[39mtensor([[action]], device\u001b[38;5;241m=\u001b[39mdevice), next_state, reward)\n\u001b[0;32m     17\u001b[0m state \u001b[38;5;241m=\u001b[39m next_state\n\u001b[1;32m---> 19\u001b[0m \u001b[43moptimize_model\u001b[49m\u001b[43m(\u001b[49m\u001b[43mBATCH_SIZE\u001b[49m\u001b[43m)\u001b[49m\n\u001b[0;32m     21\u001b[0m episode_reward \u001b[38;5;241m+\u001b[39m\u001b[38;5;241m=\u001b[39m reward\u001b[38;5;241m.\u001b[39mitem()\n\u001b[0;32m     22\u001b[0m \u001b[38;5;28;01mif\u001b[39;00m done:\n",
      "Cell \u001b[1;32mIn[152], line 42\u001b[0m, in \u001b[0;36moptimize_model\u001b[1;34m(BATCH_SIZE)\u001b[0m\n\u001b[0;32m     40\u001b[0m loss \u001b[38;5;241m=\u001b[39m F\u001b[38;5;241m.\u001b[39msmooth_l1_loss(state_action_values, expected_state_action_values\u001b[38;5;241m.\u001b[39munsqueeze(\u001b[38;5;241m1\u001b[39m))  \u001b[38;5;66;03m# Shape: (batch_size, 1)\u001b[39;00m\n\u001b[0;32m     41\u001b[0m optimizer\u001b[38;5;241m.\u001b[39mzero_grad()\n\u001b[1;32m---> 42\u001b[0m \u001b[43mloss\u001b[49m\u001b[38;5;241;43m.\u001b[39;49m\u001b[43mbackward\u001b[49m\u001b[43m(\u001b[49m\u001b[43m)\u001b[49m\n\u001b[0;32m     43\u001b[0m torch\u001b[38;5;241m.\u001b[39mnn\u001b[38;5;241m.\u001b[39mutils\u001b[38;5;241m.\u001b[39mclip_grad_norm_(policy_net\u001b[38;5;241m.\u001b[39mparameters(), \u001b[38;5;241m1\u001b[39m)\n\u001b[0;32m     44\u001b[0m optimizer\u001b[38;5;241m.\u001b[39mstep()\n",
      "File \u001b[1;32mc:\\Users\\chuck\\Desktop\\.venv\\Lib\\site-packages\\torch\\_tensor.py:626\u001b[0m, in \u001b[0;36mTensor.backward\u001b[1;34m(self, gradient, retain_graph, create_graph, inputs)\u001b[0m\n\u001b[0;32m    616\u001b[0m \u001b[38;5;28;01mif\u001b[39;00m has_torch_function_unary(\u001b[38;5;28mself\u001b[39m):\n\u001b[0;32m    617\u001b[0m     \u001b[38;5;28;01mreturn\u001b[39;00m handle_torch_function(\n\u001b[0;32m    618\u001b[0m         Tensor\u001b[38;5;241m.\u001b[39mbackward,\n\u001b[0;32m    619\u001b[0m         (\u001b[38;5;28mself\u001b[39m,),\n\u001b[1;32m   (...)\u001b[0m\n\u001b[0;32m    624\u001b[0m         inputs\u001b[38;5;241m=\u001b[39minputs,\n\u001b[0;32m    625\u001b[0m     )\n\u001b[1;32m--> 626\u001b[0m \u001b[43mtorch\u001b[49m\u001b[38;5;241;43m.\u001b[39;49m\u001b[43mautograd\u001b[49m\u001b[38;5;241;43m.\u001b[39;49m\u001b[43mbackward\u001b[49m\u001b[43m(\u001b[49m\n\u001b[0;32m    627\u001b[0m \u001b[43m    \u001b[49m\u001b[38;5;28;43mself\u001b[39;49m\u001b[43m,\u001b[49m\u001b[43m \u001b[49m\u001b[43mgradient\u001b[49m\u001b[43m,\u001b[49m\u001b[43m \u001b[49m\u001b[43mretain_graph\u001b[49m\u001b[43m,\u001b[49m\u001b[43m \u001b[49m\u001b[43mcreate_graph\u001b[49m\u001b[43m,\u001b[49m\u001b[43m \u001b[49m\u001b[43minputs\u001b[49m\u001b[38;5;241;43m=\u001b[39;49m\u001b[43minputs\u001b[49m\n\u001b[0;32m    628\u001b[0m \u001b[43m\u001b[49m\u001b[43m)\u001b[49m\n",
      "File \u001b[1;32mc:\\Users\\chuck\\Desktop\\.venv\\Lib\\site-packages\\torch\\autograd\\__init__.py:347\u001b[0m, in \u001b[0;36mbackward\u001b[1;34m(tensors, grad_tensors, retain_graph, create_graph, grad_variables, inputs)\u001b[0m\n\u001b[0;32m    342\u001b[0m     retain_graph \u001b[38;5;241m=\u001b[39m create_graph\n\u001b[0;32m    344\u001b[0m \u001b[38;5;66;03m# The reason we repeat the same comment below is that\u001b[39;00m\n\u001b[0;32m    345\u001b[0m \u001b[38;5;66;03m# some Python versions print out the first line of a multi-line function\u001b[39;00m\n\u001b[0;32m    346\u001b[0m \u001b[38;5;66;03m# calls in the traceback and some print out the last line\u001b[39;00m\n\u001b[1;32m--> 347\u001b[0m \u001b[43m_engine_run_backward\u001b[49m\u001b[43m(\u001b[49m\n\u001b[0;32m    348\u001b[0m \u001b[43m    \u001b[49m\u001b[43mtensors\u001b[49m\u001b[43m,\u001b[49m\n\u001b[0;32m    349\u001b[0m \u001b[43m    \u001b[49m\u001b[43mgrad_tensors_\u001b[49m\u001b[43m,\u001b[49m\n\u001b[0;32m    350\u001b[0m \u001b[43m    \u001b[49m\u001b[43mretain_graph\u001b[49m\u001b[43m,\u001b[49m\n\u001b[0;32m    351\u001b[0m \u001b[43m    \u001b[49m\u001b[43mcreate_graph\u001b[49m\u001b[43m,\u001b[49m\n\u001b[0;32m    352\u001b[0m \u001b[43m    \u001b[49m\u001b[43minputs\u001b[49m\u001b[43m,\u001b[49m\n\u001b[0;32m    353\u001b[0m \u001b[43m    \u001b[49m\u001b[43mallow_unreachable\u001b[49m\u001b[38;5;241;43m=\u001b[39;49m\u001b[38;5;28;43;01mTrue\u001b[39;49;00m\u001b[43m,\u001b[49m\n\u001b[0;32m    354\u001b[0m \u001b[43m    \u001b[49m\u001b[43maccumulate_grad\u001b[49m\u001b[38;5;241;43m=\u001b[39;49m\u001b[38;5;28;43;01mTrue\u001b[39;49;00m\u001b[43m,\u001b[49m\n\u001b[0;32m    355\u001b[0m \u001b[43m\u001b[49m\u001b[43m)\u001b[49m\n",
      "File \u001b[1;32mc:\\Users\\chuck\\Desktop\\.venv\\Lib\\site-packages\\torch\\autograd\\graph.py:823\u001b[0m, in \u001b[0;36m_engine_run_backward\u001b[1;34m(t_outputs, *args, **kwargs)\u001b[0m\n\u001b[0;32m    821\u001b[0m     unregister_hooks \u001b[38;5;241m=\u001b[39m _register_logging_hooks_on_whole_graph(t_outputs)\n\u001b[0;32m    822\u001b[0m \u001b[38;5;28;01mtry\u001b[39;00m:\n\u001b[1;32m--> 823\u001b[0m     \u001b[38;5;28;01mreturn\u001b[39;00m \u001b[43mVariable\u001b[49m\u001b[38;5;241;43m.\u001b[39;49m\u001b[43m_execution_engine\u001b[49m\u001b[38;5;241;43m.\u001b[39;49m\u001b[43mrun_backward\u001b[49m\u001b[43m(\u001b[49m\u001b[43m  \u001b[49m\u001b[38;5;66;43;03m# Calls into the C++ engine to run the backward pass\u001b[39;49;00m\n\u001b[0;32m    824\u001b[0m \u001b[43m        \u001b[49m\u001b[43mt_outputs\u001b[49m\u001b[43m,\u001b[49m\u001b[43m \u001b[49m\u001b[38;5;241;43m*\u001b[39;49m\u001b[43margs\u001b[49m\u001b[43m,\u001b[49m\u001b[43m \u001b[49m\u001b[38;5;241;43m*\u001b[39;49m\u001b[38;5;241;43m*\u001b[39;49m\u001b[43mkwargs\u001b[49m\n\u001b[0;32m    825\u001b[0m \u001b[43m    \u001b[49m\u001b[43m)\u001b[49m  \u001b[38;5;66;03m# Calls into the C++ engine to run the backward pass\u001b[39;00m\n\u001b[0;32m    826\u001b[0m \u001b[38;5;28;01mfinally\u001b[39;00m:\n\u001b[0;32m    827\u001b[0m     \u001b[38;5;28;01mif\u001b[39;00m attach_logging_hooks:\n",
      "\u001b[1;31mKeyboardInterrupt\u001b[0m: "
     ]
    }
   ],
   "source": [
    "import random\n",
    "def run_model(num_episodes, BATCH_SIZE, LR, GAMMA, EPS_DECAY):\n",
    "    total_rewards = []\n",
    "    for episode in range(num_episodes):\n",
    "        state, _ = env.reset()  # Updated reset() to return tuple\n",
    "        state = torch.tensor(state, dtype=torch.float32).unsqueeze(0).to(device)\n",
    "        episode_reward = 0\n",
    "\n",
    "        for t in count():\n",
    "            action = select_action(state)\n",
    "            next_state, reward, done, _ = env.step(action)\n",
    "\n",
    "            reward = torch.tensor([reward], dtype=torch.float32, device=device)\n",
    "            next_state = torch.tensor(next_state, dtype=torch.float32).unsqueeze(0).to(device) if not done else None\n",
    "\n",
    "            memory.push(state, torch.tensor([[action]], device=device), next_state, reward)\n",
    "            state = next_state\n",
    "\n",
    "            optimize_model(BATCH_SIZE)\n",
    "\n",
    "            episode_reward += reward.item()\n",
    "            if done:\n",
    "                total_rewards.append(episode_reward)\n",
    "                break\n",
    "\n",
    "        if episode % 1000 == 0:\n",
    "            print(f\"in progress{random.randint(1,5) * '.'}\")\n",
    "    return total_rewards\n",
    "\n",
    "            \n",
    "def model_search(test_array, n):   \n",
    "    total_rewards = {}  \n",
    "\n",
    "    for i_idx, i in enumerate(test_array[batch_idx], 1):  # Start index at 1\n",
    "        BATCH_SIZE = int(i)\n",
    "        for j_idx, j in enumerate(test_array[LR_idx], 1):\n",
    "            LR = float(j)\n",
    "            for k_idx, k in enumerate(test_array[discounts_idx], 1):    \n",
    "                GAMMA = float(k)\n",
    "                for l_idx, l in enumerate(test_array[Edecay_idx], 1):\n",
    "                    EPS_DECAY = float(l)\n",
    "\n",
    "                    print(f'Running DQN with batch size index: {i_idx}, learning rate index: {j_idx}, '\n",
    "                        f'discount factor index: {k_idx}, epsilon decay index: {l_idx}')\n",
    "\n",
    "                    rewards = run_model(n, BATCH_SIZE, LR, GAMMA, EPS_DECAY)\n",
    "                    \n",
    "                    avg_reward = np.mean(rewards[-100:])  # Store last 100 episode average reward\n",
    "                    \n",
    "                    # Store indices instead of raw values\n",
    "                    total_rewards[(i_idx, j_idx, k_idx, l_idx)] = avg_reward  \n",
    "\n",
    "    return total_rewards\n",
    "\n",
    "\n",
    "l = model_search(test_array, n)"
   ]
  },
  {
   "cell_type": "code",
   "execution_count": 154,
   "metadata": {},
   "outputs": [
    {
     "name": "stdout",
     "output_type": "stream",
     "text": [
      "Best Model: (3, 2, 2, 1), with average reward: 0.17\n",
      "Index: 3, Value: 512.0\n",
      "Index: 2, Value: 0.0\n",
      "Index: 2, Value: 0.95\n",
      "Index: 1, Value: 5000.0\n"
     ]
    }
   ],
   "source": [
    "best_hyperparams = max(l, key=l.get)\n",
    "best_reward = l[best_hyperparams]\n",
    "idx = 0\n",
    "print(f'Best Model: {best_hyperparams}, with average reward: {best_reward}')\n",
    "for i in best_hyperparams:\n",
    "    print(f'Index: {i}, Value: {test_array[idx][i-1]}')\n",
    "    idx+=1\n",
    "\n"
   ]
  },
  {
   "cell_type": "markdown",
   "metadata": {},
   "source": []
  },
  {
   "cell_type": "code",
   "execution_count": null,
   "metadata": {},
   "outputs": [
    {
     "name": "stdout",
     "output_type": "stream",
     "text": [
      "in progress....\n",
      "in progress....\n",
      "in progress...\n",
      "in progress..\n",
      "in progress...\n",
      "in progress.\n",
      "in progress.....\n",
      "in progress.\n",
      "in progress....\n",
      "in progress....\n",
      "in progress.\n",
      "in progress....\n",
      "in progress..\n",
      "in progress....\n",
      "in progress.....\n",
      "in progress.\n",
      "in progress....\n",
      "in progress..\n",
      "in progress.\n",
      "in progress.\n",
      "in progress..\n",
      "in progress..\n",
      "in progress.\n",
      "in progress.\n",
      "in progress..\n",
      "in progress.\n",
      "in progress....\n",
      "in progress...\n",
      "in progress..\n",
      "in progress.....\n",
      "in progress....\n",
      "in progress..\n",
      "in progress.....\n",
      "in progress.....\n",
      "in progress.\n",
      "in progress.\n",
      "in progress...\n",
      "in progress....\n",
      "in progress.\n",
      "in progress..\n",
      "in progress....\n",
      "in progress.\n",
      "in progress.....\n",
      "in progress.\n",
      "in progress....\n",
      "in progress...\n",
      "in progress....\n",
      "in progress...\n",
      "in progress....\n",
      "in progress.....\n",
      "in progress....\n",
      "in progress.....\n",
      "in progress....\n",
      "in progress.\n",
      "in progress.\n",
      "in progress...\n",
      "in progress.....\n",
      "in progress..\n",
      "in progress...\n",
      "in progress.\n",
      "in progress.\n",
      "in progress...\n",
      "in progress.....\n",
      "in progress...\n",
      "in progress.\n",
      "in progress....\n",
      "in progress....\n",
      "in progress...\n",
      "in progress....\n",
      "in progress.....\n",
      "in progress.\n",
      "in progress...\n",
      "in progress....\n",
      "in progress.\n",
      "in progress.....\n",
      "in progress.\n",
      "in progress...\n",
      "in progress.....\n",
      "in progress..\n",
      "in progress.....\n",
      "in progress..\n",
      "in progress..\n",
      "in progress...\n",
      "in progress..\n",
      "in progress...\n",
      "in progress.....\n",
      "in progress...\n",
      "in progress....\n",
      "in progress.....\n",
      "in progress...\n",
      "in progress....\n",
      "in progress.....\n",
      "in progress.\n",
      "in progress....\n",
      "in progress.\n",
      "in progress....\n",
      "in progress.....\n",
      "in progress.....\n",
      "in progress...\n",
      "in progress..\n"
     ]
    }
   ],
   "source": [
    "BATCH_SIZE = 512\n",
    "LR = 1e-4\n",
    "GAMMA = 0.95\n",
    "EPS_DECAY = 50000\n",
    "best_model = run_model(10000, BATCH_SIZE, LR, GAMMA, EPS_DECAY)\n"
   ]
  },
  {
   "cell_type": "code",
   "execution_count": 162,
   "metadata": {},
   "outputs": [
    {
     "data": {
      "image/png": "[encoded data removed]",
      "text/plain": [
       "<Figure size 640x480 with 1 Axes>"
      ]
     },
     "metadata": {},
     "output_type": "display_data"
    },
    {
     "name": "stdout",
     "output_type": "stream",
     "text": [
      "Average total reward for naive DQN: -0.08\n"
     ]
    }
   ],
   "source": [
    "\n",
    "def moving_average(data, window_size):\n",
    "    return np.convolve(data, np.ones(window_size) / window_size, mode='valid')\n",
    "\n",
    "window_size = 1000\n",
    "smoothed_rewards = moving_average(best_model, window_size)\n",
    "\n",
    "plt.plot(smoothed_rewards)\n",
    "plt.xlabel('Episodes')\n",
    "plt.ylabel('Total Reward (Smoothed)')\n",
    "plt.title('Training Progress (Smoothed)')\n",
    "plt.show()\n",
    "\n",
    "print(f'Average total reward for naive DQN: {np.mean(best_model[-100:])}')"
   ]
  },
  {
   "cell_type": "code",
   "execution_count": null,
   "metadata": {},
   "outputs": [],
   "source": [
    "class Double_DQN(nn.Module):\n",
    "    def __init__(self, n_observations, n_actions):\n",
    "        super(Double_DQN, self).__init__()\n",
    "        self.fc1 = nn.Linear(n_observations, 128)\n",
    "        self.fc2 = nn.Linear(128, 128)\n",
    "        self.fc3_main = nn.Linear(128, n_actions)  # For action selection\n",
    "        self.fc3_target = nn.Linear(128, n_actions)  # For Q-value evaluation\n",
    "\n",
    "    def forward(self, x):\n",
    "        x = F.relu(self.fc1(x))\n",
    "        x = F.relu(self.fc2(x))\n",
    "        main_output = self.fc3_main(x)  # Output for action selection\n",
    "        target_output = self.fc3_target(x)  # Output for Q-value evaluation\n",
    "        return main_output, target_output\n"
   ]
  },
  {
   "cell_type": "code",
   "execution_count": null,
   "metadata": {},
   "outputs": [],
   "source": [
    "class ReplayMemory:\n",
    "    def __init__(self, capacity):\n",
    "        self.memory = deque([], maxlen=capacity)\n",
    "\n",
    "    def push(self, *args):\n",
    "        self.memory.append(Transition(*args))\n",
    "\n",
    "    def sample(self, batch_size):\n",
    "        return random.sample(self.memory, batch_size)\n",
    "\n",
    "    def __len__(self):\n",
    "        return len(self.memory)\n"
   ]
  },
  {
   "cell_type": "code",
   "execution_count": null,
   "metadata": {},
   "outputs": [],
   "source": [
    "def optimize_model(BATCH_SIZE):\n",
    "    if len(memory) < BATCH_SIZE:\n",
    "        return\n",
    "\n",
    "    transitions = memory.sample(BATCH_SIZE)\n",
    "    batch = Transition(*zip(*transitions))\n",
    "\n",
    "    state_batch = torch.cat(batch.state)  # Shape: (batch_size, n_observations)\n",
    "    action_batch = torch.cat(batch.action)  # Shape: (batch_size, 1)\n",
    "    reward_batch = torch.cat(batch.reward)\n",
    "\n",
    "    # Create mask for non-final states\n",
    "    non_final_mask = torch.tensor([s is not None for s in batch.next_state], dtype=torch.bool)\n",
    "    \n",
    "    # Get next state values\n",
    "    if any(s is not None for s in batch.next_state):\n",
    "        non_final_next_states = torch.cat([s for s in batch.next_state if s is not None])\n",
    "    else:\n",
    "        non_final_next_states = torch.zeros((0, *state_batch.shape[1:]), device=device)\n",
    "\n",
    "    # Get Q-values from policy network for the current state\n",
    "    state_action_values = policy_net(state_batch).gather(1, action_batch)  # Gathering the action's Q-value\n",
    "\n",
    "    # Get next state actions using the policy network for action selection\n",
    "    next_state_actions = policy_net(non_final_next_states).max(1)[1].view(-1, 1)  # Shape: (batch_size, 1)\n",
    "\n",
    "    # Get the Q-values for the next state using the target network for evaluation\n",
    "    next_state_values = torch.zeros(BATCH_SIZE, device=device)\n",
    "    with torch.no_grad():\n",
    "        # Fix shape mismatch by squeezing the 2D tensor to 1D\n",
    "        next_state_values[non_final_mask] = target_net(non_final_next_states).gather(1, next_state_actions).squeeze(1)\n",
    "\n",
    "    # Calculate the expected Q-values\n",
    "    expected_state_action_values = (next_state_values * GAMMA) + reward_batch\n",
    "\n",
    "    # Compute loss and perform backpropagation\n",
    "    loss = F.smooth_l1_loss(state_action_values, expected_state_action_values.unsqueeze(1))  # Shape: (batch_size, 1)\n",
    "    optimizer.zero_grad()\n",
    "    loss.backward()\n",
    "    torch.nn.utils.clip_grad_norm_(policy_net.parameters(), 1)\n",
    "    optimizer.step()\n"
   ]
  },
  {
   "cell_type": "code",
   "execution_count": null,
   "metadata": {},
   "outputs": [
    {
     "name": "stdout",
     "output_type": "stream",
     "text": [
      "in progress.\n",
      "in progress....\n",
      "in progress....\n",
      "in progress.\n",
      "in progress...\n",
      "in progress.....\n",
      "in progress..\n",
      "in progress.....\n",
      "in progress....\n",
      "in progress.....\n"
     ]
    }
   ],
   "source": [
    "num_episodes = 10000\n",
    "total_rewards = []\n",
    "total_rewards = run_model(num_episodes, BATCH_SIZE, LR, GAMMA, EPS_DECAY)\n"
   ]
  },
  {
   "cell_type": "code",
   "execution_count": null,
   "metadata": {},
   "outputs": [
    {
     "data": {
      "image/png": "[encoded data removed]",
      "text/plain": [
       "<Figure size 640x480 with 1 Axes>"
      ]
     },
     "metadata": {},
     "output_type": "display_data"
    },
    {
     "name": "stdout",
     "output_type": "stream",
     "text": [
      "Average total reward for Double DQN: -0.04\n",
      "Model and replay memory reset.\n"
     ]
    }
   ],
   "source": [
    "window_size = 1000\n",
    "smoothed_rewards = moving_average(total_rewards, window_size)\n",
    "\n",
    "plt.plot(smoothed_rewards)\n",
    "plt.xlabel('Episodes')\n",
    "plt.ylabel('Total Reward (Smoothed)')\n",
    "plt.title('Double DQN Training Progress (Smoothed)')\n",
    "plt.show()\n",
    "\n",
    "print(f'Average total reward for Double DQN: {np.mean(total_rewards[-100:])}')\n",
    "reset_model()"
   ]
  },
  {
   "cell_type": "code",
   "execution_count": null,
   "metadata": {},
   "outputs": [],
   "source": []
  },
  {
   "cell_type": "code",
   "execution_count": null,
   "metadata": {},
   "outputs": [],
   "source": []
  }
 ],
 "metadata": {
  "kernelspec": {
   "display_name": ".venv",
   "language": "python",
   "name": "python3"
  },
  "language_info": {
   "codemirror_mode": {
    "name": "ipython",
    "version": 3
   },
   "file_extension": ".py",
   "mimetype": "text/x-python",
   "name": "python",
   "nbconvert_exporter": "python",
   "pygments_lexer": "ipython3",
   "version": "3.13.2"
  }
 },
 "nbformat": 4,
 "nbformat_minor": 2
}
